{
  "nbformat": 4,
  "nbformat_minor": 0,
  "metadata": {
    "colab": {
      "name": "Skip_Ganomaly.ipynb",
      "provenance": [],
      "collapsed_sections": [],
      "machine_shape": "hm"
    },
    "kernelspec": {
      "name": "python3",
      "display_name": "Python 3"
    },
    "language_info": {
      "name": "python"
    },
    "accelerator": "GPU"
  },
  "cells": [
    {
      "cell_type": "markdown",
      "source": [
        "# **Connecto to GG Drive**\n",
        "\n"
      ],
      "metadata": {
        "id": "1Ztj-vzFUlqa"
      }
    },
    {
      "cell_type": "code",
      "execution_count": null,
      "metadata": {
        "colab": {
          "base_uri": "https://localhost:8080/"
        },
        "id": "iu7LxRctUZqR",
        "outputId": "903df922-20d1-4331-b66e-089ec5d99991"
      },
      "outputs": [
        {
          "output_type": "stream",
          "name": "stdout",
          "text": [
            "Drive already mounted at /content/drive; to attempt to forcibly remount, call drive.mount(\"/content/drive\", force_remount=True).\n",
            "/content/drive/Shareddrives/DKD/GAN/MVTec-AD/Skip-Ganomaly-Screw\n",
            "'Confusion matrix_cm.png'   name_model_roc_curve.png\n",
            " Discriminator128_20_500    pre_rec_curve.png\n",
            " Generator_128_20_200\t    screw\n",
            " Generator_128_20_5\t    screw.tar.xz\n",
            " Generator_128_20_500\t    Skip-GANomaly.ipynb\n",
            " iscriminator128_20_200     TestNormalized_Skip-GANomaly.ipynb\n",
            " iscriminator128_20_5\t    Untitled0.ipynb\n"
          ]
        }
      ],
      "source": [
        "from google.colab import drive\n",
        "drive.mount('/content/drive')\n",
        "\n",
        "%cd '/content/drive/Shareddrives/DKD/GAN/MVTec-AD/Skip-Ganomaly-Screw'\n",
        "! ls "
      ]
    },
    {
      "cell_type": "markdown",
      "source": [
        "# **Data Preprocessing**"
      ],
      "metadata": {
        "id": "FSOv69s_Ux_D"
      }
    },
    {
      "cell_type": "code",
      "source": [
        "import tensorflow as tf\n",
        "import numpy as np\n",
        "import pathlib\n",
        "import matplotlib.pyplot as plt\n",
        "from matplotlib.pyplot import imshow"
      ],
      "metadata": {
        "id": "YUENgUVzU0g6"
      },
      "execution_count": null,
      "outputs": []
    },
    {
      "cell_type": "markdown",
      "source": [
        "**Data Info**"
      ],
      "metadata": {
        "id": "4oaZlfxkU69M"
      }
    },
    {
      "cell_type": "code",
      "source": [
        "image_size = 128\n",
        "channels = 1\n",
        "batch_size = 20\n",
        "test_batch_size = 160\n",
        "epoches = 1"
      ],
      "metadata": {
        "id": "kFeaQzoeU5wa"
      },
      "execution_count": null,
      "outputs": []
    },
    {
      "cell_type": "markdown",
      "source": [
        "**Training Dataset Processing**"
      ],
      "metadata": {
        "id": "_RdtgyBIVIzk"
      }
    },
    {
      "cell_type": "code",
      "source": [
        "path =  \"screw/train/good/\" #path of training data\n",
        "\n",
        "#To create a dataset of all files matching a pattern, \n",
        "#use tf.data.Dataset.list_files:\n",
        "ds_train = tf.data.Dataset.list_files(str(pathlib.Path(path+ '*.png')))\n",
        "for data in ds_train.take(1):\n",
        "  print(data.numpy().decode('utf-8'))"
      ],
      "metadata": {
        "colab": {
          "base_uri": "https://localhost:8080/"
        },
        "id": "8B35TI6iVUpF",
        "outputId": "9883456f-9184-4c34-e6c5-8544c2aef441"
      },
      "execution_count": null,
      "outputs": [
        {
          "output_type": "stream",
          "name": "stdout",
          "text": [
            "screw/train/good/189.png\n"
          ]
        }
      ]
    },
    {
      "cell_type": "code",
      "source": [
        "def process_path(file_path):\n",
        "    image = tf.io.read_file(file_path)\n",
        "    image = tf.image.decode_png(image, channels=channels)\n",
        "    image = tf.image.resize(image,(image_size, image_size))\n",
        "    image = image/ 255\n",
        "    label = 1\n",
        "    return image, label"
      ],
      "metadata": {
        "id": "fWLjNN8LVNHO"
      },
      "execution_count": null,
      "outputs": []
    },
    {
      "cell_type": "code",
      "source": [
        "#Using map and batch for train dataset\n",
        "ds_train = ds_train.map(process_path).batch(batch_size)"
      ],
      "metadata": {
        "id": "w5NhRKTyXSDt"
      },
      "execution_count": null,
      "outputs": []
    },
    {
      "cell_type": "code",
      "source": [
        "#Show the image, label\n",
        "for x, y in ds_train.take(1):\n",
        "  print(x.shape) # 20 images, size 128x128, channels = 1\n",
        "  print(y)\n",
        "  arr = np.squeeze(x[0])\n",
        "  imshow(arr, cmap = 'gray')"
      ],
      "metadata": {
        "colab": {
          "base_uri": "https://localhost:8080/",
          "height": 304
        },
        "id": "JtqL-a7uXZJm",
        "outputId": "231f5e01-85e5-44dd-9643-f0b1f61bfa44"
      },
      "execution_count": null,
      "outputs": [
        {
          "output_type": "stream",
          "name": "stdout",
          "text": [
            "(20, 128, 128, 1)\n",
            "tf.Tensor([1 1 1 1 1 1 1 1 1 1 1 1 1 1 1 1 1 1 1 1], shape=(20,), dtype=int32)\n"
          ]
        },
        {
          "output_type": "display_data",
          "data": {
            "text/plain": [
              "<Figure size 432x288 with 1 Axes>"
            ],
            "image/png": "[encoded data removed]"
          },
          "metadata": {
            "needs_background": "light"
          }
        }
      ]
    },
    {
      "cell_type": "markdown",
      "source": [
        "**Testing Data Processing**"
      ],
      "metadata": {
        "id": "q4AOUpb7XRJO"
      }
    },
    {
      "cell_type": "code",
      "source": [
        "ds_test = tf.keras.preprocessing.image_dataset_from_directory(\n",
        "    directory = 'screw/test/',\n",
        "    labels = 'inferred',\n",
        "    label_mode = 'int', \n",
        "    color_mode = 'grayscale',\n",
        "    batch_size = test_batch_size,\n",
        "    image_size = (image_size,image_size),\n",
        "    shuffle = True,\n",
        "    seed = 123,\n",
        ")"
      ],
      "metadata": {
        "colab": {
          "base_uri": "https://localhost:8080/"
        },
        "id": "02oVj5ezYImg",
        "outputId": "8e8ef7ef-df90-453a-a227-b20d37237c9d"
      },
      "execution_count": null,
      "outputs": [
        {
          "output_type": "stream",
          "name": "stdout",
          "text": [
            "Found 160 files belonging to 2 classes.\n"
          ]
        }
      ]
    },
    {
      "cell_type": "code",
      "source": [
        "def process_test(image,label):\n",
        "    image = tf.cast(image/255. ,tf.float32)\n",
        "    return image,label"
      ],
      "metadata": {
        "id": "8AG8CGVQZQ7h"
      },
      "execution_count": null,
      "outputs": []
    },
    {
      "cell_type": "code",
      "source": [
        "ds_test = ds_test.map(process_test)"
      ],
      "metadata": {
        "id": "Nfk-XazgZk9c"
      },
      "execution_count": null,
      "outputs": []
    },
    {
      "cell_type": "code",
      "source": [
        "#Test test_data\n",
        "for x, y in ds_test:\n",
        "  print(x.shape)\n",
        "  print(x[0])"
      ],
      "metadata": {
        "colab": {
          "base_uri": "https://localhost:8080/"
        },
        "id": "LpIOCycvZo2M",
        "outputId": "cfb23eb7-540c-44d1-e943-6d0c4d558549"
      },
      "execution_count": null,
      "outputs": [
        {
          "output_type": "stream",
          "name": "stdout",
          "text": [
            "(160, 128, 128, 1)\n",
            "tf.Tensor(\n",
            "[[[0.8245098 ]\n",
            "  [0.8215686 ]\n",
            "  [0.8127451 ]\n",
            "  ...\n",
            "  [0.8509804 ]\n",
            "  [0.845098  ]\n",
            "  [0.85490197]]\n",
            "\n",
            " [[0.8215686 ]\n",
            "  [0.8098039 ]\n",
            "  [0.8215686 ]\n",
            "  ...\n",
            "  [0.84313726]\n",
            "  [0.8568627 ]\n",
            "  [0.8509804 ]]\n",
            "\n",
            " [[0.8382353 ]\n",
            "  [0.8186275 ]\n",
            "  [0.8137255 ]\n",
            "  ...\n",
            "  [0.8539216 ]\n",
            "  [0.85588235]\n",
            "  [0.8401961 ]]\n",
            "\n",
            " ...\n",
            "\n",
            " [[0.8480392 ]\n",
            "  [0.8382353 ]\n",
            "  [0.8372549 ]\n",
            "  ...\n",
            "  [0.8147059 ]\n",
            "  [0.81960785]\n",
            "  [0.8127451 ]]\n",
            "\n",
            " [[0.8480392 ]\n",
            "  [0.84313726]\n",
            "  [0.8480392 ]\n",
            "  ...\n",
            "  [0.82941175]\n",
            "  [0.8137255 ]\n",
            "  [0.81666666]]\n",
            "\n",
            " [[0.8362745 ]\n",
            "  [0.8401961 ]\n",
            "  [0.8509804 ]\n",
            "  ...\n",
            "  [0.8186275 ]\n",
            "  [0.83137256]\n",
            "  [0.83235294]]], shape=(128, 128, 1), dtype=float32)\n"
          ]
        }
      ]
    },
    {
      "cell_type": "markdown",
      "source": [
        "# **Custom Layers**"
      ],
      "metadata": {
        "id": "VN4ZevM9aF58"
      }
    },
    {
      "cell_type": "code",
      "source": [
        "from tensorflow.keras import layers"
      ],
      "metadata": {
        "id": "VaO84hjnbfo1"
      },
      "execution_count": null,
      "outputs": []
    },
    {
      "cell_type": "markdown",
      "source": [
        "**Conv_block**"
      ],
      "metadata": {
        "id": "ioR_y-EIaJcv"
      }
    },
    {
      "cell_type": "code",
      "source": [
        "class Conv_block(tf.keras.Model):\n",
        "\n",
        "    def __init__(self, num_filters):\n",
        "        super(Conv_block,self).__init__()\n",
        "        self.conv_layer = tf.keras.Sequential([\n",
        "            layers.Conv2D(filters = num_filters, \n",
        "                          kernel_size=3,\n",
        "                          strides = 2,\n",
        "                          padding = 'same',\n",
        "                          use_bias = False,\n",
        "                          kernel_initializer = tf.random_normal_initializer(0., 0.02)),\n",
        "\n",
        "            layers.BatchNormalization(),\n",
        "            layers.LeakyReLU(0.2),\n",
        "\n",
        "        ])\n",
        "\n",
        "    def call(self, inputs, training= False):\n",
        "        outputs = self.conv_layer(inputs)\n",
        "\n",
        "        return outputs"
      ],
      "metadata": {
        "id": "r5AIUdytaDoZ"
      },
      "execution_count": null,
      "outputs": []
    },
    {
      "cell_type": "markdown",
      "source": [
        "**Conv_T_block**"
      ],
      "metadata": {
        "id": "rOUbtVYacBMT"
      }
    },
    {
      "cell_type": "code",
      "source": [
        "class Conv_T_block(tf.keras.Model):\n",
        "\n",
        "    def __init__(self, num_filters):\n",
        "        super(Conv_T_block,self).__init__()\n",
        "        self.conv_T_layer = tf.keras.Sequential([\n",
        "            layers.Conv2DTranspose(filters=num_filters,\n",
        "                                   kernel_size = 3,\n",
        "                                   strides = 2,\n",
        "                                   padding = 'same',\n",
        "                                   use_bias = False,\n",
        "                                   kernel_initializer = tf.random_normal_initializer(0., 0.02)\n",
        "                                ),\n",
        "            layers.BatchNormalization(),\n",
        "            layers.ReLU(),     \n",
        "                                                \n",
        "        ])\n",
        "    \n",
        "    def call(self, inputs, concat, training = False):\n",
        "        upsample = self.conv_T_layer(inputs)\n",
        "        outputs = tf.concat([upsample, concat], -1)\n",
        "\n",
        "        return outputs\n"
      ],
      "metadata": {
        "id": "jJ3aEZBccZZN"
      },
      "execution_count": null,
      "outputs": []
    },
    {
      "cell_type": "markdown",
      "source": [
        "# **Model**\n",
        "\n",
        "**Generator**"
      ],
      "metadata": {
        "id": "1DIuTg_yeCZI"
      }
    },
    {
      "cell_type": "code",
      "source": [
        "# class Generator(tf.keras.Model):\n",
        "#     def __init__(self, num_output_channels=3):\n",
        "#         super(Generator, self).__init__()\n",
        "#         self.encoder_1 = Conv_block(64) # 16\n",
        "#         self.encoder_2 = Conv_block(128) # 8\n",
        "#         self.encoder_3 = Conv_block(256) # 4\n",
        "#         self.encoder_4 = Conv_block(512) # 2\n",
        "        \n",
        "#         self.center = Conv_block(512) # 1\n",
        "        \n",
        "#         self.decoder_4 = Conv_T_block(512) # 2\n",
        "#         self.decoder_3 = Conv_T_block(256) # 4\n",
        "#         self.decoder_2 = Conv_T_block(128) # 8\n",
        "#         self.decoder_1 = Conv_T_block(64) # 16\n",
        "        \n",
        "#         self.output_layer = layers.Conv2DTranspose(num_output_channels, 1, strides=2, padding='same', use_bias=False, # 32\n",
        "#                                                    kernel_initializer=tf.random_normal_initializer(0., 0.02))\n",
        "                \n",
        "#     def call(self, inputs, training=False):\n",
        "#         en_1 = self.encoder_1(inputs) # gen\n",
        "#         en_2 = self.encoder_2(en_1)\n",
        "#         en_3 = self.encoder_3(en_2)\n",
        "#         en_4 = self.encoder_4(en_3)\n",
        "        \n",
        "#         center = self.center(en_4)\n",
        "        \n",
        "#         de_4 = self.decoder_4(center, en_4)\n",
        "#         de_3 = self.decoder_3(de_4, en_3)\n",
        "#         de_2 = self.decoder_2(de_3, en_2)\n",
        "#         de_1 = self.decoder_1(de_2, en_1)\n",
        "        \n",
        "#         outputs = self.output_layer(de_1)\n",
        "        \n",
        "#         return outputs\n"
      ],
      "metadata": {
        "id": "Vcq_RHqwuiz3"
      },
      "execution_count": null,
      "outputs": []
    },
    {
      "cell_type": "code",
      "source": [
        "class Generator(tf.keras.Model):\n",
        "\n",
        "    def __init__(self, num_output_channels):\n",
        "        super(Generator,self).__init__()\n",
        "        self.encoder_1 = Conv_block(64)\n",
        "        self.encoder_2 = Conv_block(128)\n",
        "        self.encoder_3 = Conv_block(256)\n",
        "        self.encoder_4 = Conv_block(512)\n",
        "\n",
        "        self.center = Conv_block(512)\n",
        "\n",
        "        self.decoder_4 = Conv_T_block(512)\n",
        "        self.decoder_3 = Conv_T_block(256)\n",
        "        self.decoder_2 = Conv_T_block(128)\n",
        "        self.decoder_1 = Conv_T_block(64)\n",
        "\n",
        "        self.output_layer = layers.Conv2DTranspose(filters = num_output_channels,\n",
        "                                                   kernel_size = 1,\n",
        "                                                   strides = 2, \n",
        "                                                   padding = 'same',\n",
        "                                                   use_bias = False,\n",
        "                                                   kernel_initializer = tf.random_normal_initializer(0., 0.02))\n",
        "    \n",
        "\n",
        "    def call(self, inputs, training = False):\n",
        "        en_1 = self.encoder_1(inputs)\n",
        "        en_2 = self.encoder_2(en_1)\n",
        "        en_3 = self.encoder_3(en_2)\n",
        "        en_4 = self.encoder_4(en_3)\n",
        "\n",
        "        center = self.center(en_4)\n",
        "\n",
        "        de_4 = self.decoder_4(center, en_4)\n",
        "        de_3 = self.decoder_3(de_4, en_3)\n",
        "        de_2 = self.decoder_2(de_3, en_2)\n",
        "        de_1 = self.decoder_1(de_2, en_1)\n",
        "\n",
        "        outputs = self.output_layer(de_1)\n",
        "\n",
        "        return outputs"
      ],
      "metadata": {
        "id": "m5dAwZ5LeFwJ"
      },
      "execution_count": null,
      "outputs": []
    },
    {
      "cell_type": "markdown",
      "source": [
        "**Discriminator**"
      ],
      "metadata": {
        "id": "pEcVzsKGf0V7"
      }
    },
    {
      "cell_type": "code",
      "source": [
        "class Discriminator(tf.keras.Model):\n",
        "\n",
        "    def __init__(self):\n",
        "        super(Discriminator,self).__init__()\n",
        "        self.encoder_1 = Conv_block(64)\n",
        "        self.encoder_2 = Conv_block(128)\n",
        "        self.encoder_3 = Conv_block(256)\n",
        "        self.encoder_4 = Conv_block(512)\n",
        "\n",
        "        self.center = Conv_block(100)\n",
        "\n",
        "        self.output_layer = layers.Conv2D(filters = 1,\n",
        "                                          kernel_size = 3,\n",
        "                                          strides = 1,\n",
        "                                          padding = 'same',\n",
        "                                          use_bias = False,\n",
        "                                          activation = 'sigmoid')\n",
        "    \n",
        "\n",
        "    def call(self, inputs, training = False):\n",
        "        en_1 = self.encoder_1(inputs)\n",
        "        en_2 = self.encoder_2(en_1)\n",
        "        en_3 = self.encoder_3(en_2)\n",
        "        en_4 = self.encoder_4(en_3)\n",
        "\n",
        "        center = self.center(en_4)\n",
        "\n",
        "        outputs = self.output_layer(center)\n",
        "\n",
        "        return outputs, center"
      ],
      "metadata": {
        "id": "VnIOXAtrfyXi"
      },
      "execution_count": null,
      "outputs": []
    },
    {
      "cell_type": "markdown",
      "source": [
        "# **Losses Function**"
      ],
      "metadata": {
        "id": "DRiwufPmiate"
      }
    },
    {
      "cell_type": "code",
      "source": [
        "l2_loss = tf.keras.losses.MeanSquaredError()\n",
        "l1_loss = tf.keras.losses.MeanAbsoluteError()\n",
        "cross_entropy = tf.keras.losses.BinaryCrossentropy(from_logits=False)"
      ],
      "metadata": {
        "id": "BEYkbkxsiYlE"
      },
      "execution_count": null,
      "outputs": []
    },
    {
      "cell_type": "code",
      "source": [
        "def discriminator_loss(pred_real, pred_fake):\n",
        "    real_loss = cross_entropy(tf.ones_like(pred_real), pred_real)\n",
        "    fake_loss = cross_entropy(tf.zeros_like(pred_fake), pred_fake)\n",
        "    \n",
        "    total_dis_loss = (real_loss + fake_loss) * 0.5\n",
        "\n",
        "    return total_dis_loss"
      ],
      "metadata": {
        "id": "IPPxLd6zir5y"
      },
      "execution_count": null,
      "outputs": []
    },
    {
      "cell_type": "code",
      "source": [
        "def generator_loss(real_output, fake_output, input_data, gen_data, latent_first, latent_sec):\n",
        "    w_adv = 1\n",
        "    w_context = 40\n",
        "    w_encoder = 1\n",
        "\n",
        "    adv_loss = cross_entropy(real_output, fake_output)\n",
        "    context_loss = l1_loss(input_data, gen_data)\n",
        "    encoder_loss = l2_loss(latent_first,latent_sec)\n",
        "\n",
        "    total_gen_loss =    w_adv * adv_loss + \\\n",
        "                        w_context * context_loss + \\\n",
        "                        w_encoder * encoder_loss\n",
        "\n",
        "    return total_gen_loss"
      ],
      "metadata": {
        "id": "G9GeDCNzjkfR"
      },
      "execution_count": null,
      "outputs": []
    },
    {
      "cell_type": "markdown",
      "source": [
        "# **Optimizers**"
      ],
      "metadata": {
        "id": "EXSPdKBxk1qM"
      }
    },
    {
      "cell_type": "code",
      "source": [
        "generator_optimizer = tf.keras.optimizers.Adam(2e-3, 0.5)\n",
        "discriminator_optimizer = tf.keras.optimizers.Adam(2e-3, 0.5)"
      ],
      "metadata": {
        "id": "5nyVtPNSk4S7"
      },
      "execution_count": null,
      "outputs": []
    },
    {
      "cell_type": "markdown",
      "source": [
        "# **Trainer**"
      ],
      "metadata": {
        "id": "MlLDA6orlFhc"
      }
    },
    {
      "cell_type": "code",
      "source": [
        "generator = Generator(num_output_channels=1)\n",
        "discriminator = Discriminator()"
      ],
      "metadata": {
        "id": "qjQpEWY6lEVI"
      },
      "execution_count": null,
      "outputs": []
    },
    {
      "cell_type": "code",
      "source": [
        "def train_step(images):\n",
        "    with tf.GradientTape() as gen_tape, tf.GradientTape() as disc_tape:\n",
        "        generated_images = generator(images, training = True)\n",
        "\n",
        "        pred_real, feat_real = discriminator(images, training = True)\n",
        "        pred_fake, feat_fake = discriminator(generated_images, training = True)\n",
        "\n",
        "        gen_loss = generator_loss(pred_real, pred_fake,\n",
        "                                  images, generated_images,\n",
        "                                  feat_real,feat_fake)\n",
        "        \n",
        "        disc_loss = discriminator_loss(pred_real, pred_fake)\n",
        "    \n",
        "    gradients_of_generator = gen_tape.gradient(gen_loss, generator.trainable_variables)\n",
        "    gradients_of_discriminator = disc_tape.gradient(disc_loss, discriminator.trainable_variables)\n",
        "\n",
        "    generator_optimizer.apply_gradients(zip(gradients_of_generator,generator.trainable_variables))\n",
        "    discriminator_optimizer.apply_gradients(zip(gradients_of_discriminator, discriminator.trainable_variables))\n",
        "\n",
        "    return gen_loss, disc_loss"
      ],
      "metadata": {
        "id": "D48_N4oclQue"
      },
      "execution_count": null,
      "outputs": []
    },
    {
      "cell_type": "code",
      "source": [
        "from tqdm import tqdm  # For nice progress bar!\n",
        "import time \n",
        "\n",
        "steps = 0\n",
        "\n",
        "for epoch in range(epoches):\n",
        "    start = time.time()\n",
        "\n",
        "    for images, labels in tqdm(ds_train):\n",
        "        steps += 1\n",
        "        gen_loss, disc_loss = train_step(images)\n",
        "        \n",
        "        if steps % 100 == 0:\n",
        "            print ('Steps : {}, \\t Total Gen Loss : {}, \\t Total Dis Loss : {}'.format(steps, gen_loss.numpy(), disc_loss.numpy()))\n",
        "        \n",
        "    print ('Time for epoch {} is {} sec'.format(epoch + 1, time.time() - start))"
      ],
      "metadata": {
        "colab": {
          "base_uri": "https://localhost:8080/"
        },
        "id": "8WjZ61r0nPUt",
        "outputId": "dc07e4ff-1e8f-4d46-9caf-4701085ce821"
      },
      "execution_count": null,
      "outputs": [
        {
          "output_type": "stream",
          "name": "stderr",
          "text": [
            "100%|██████████| 16/16 [00:03<00:00,  4.25it/s]"
          ]
        },
        {
          "output_type": "stream",
          "name": "stdout",
          "text": [
            "Time for epoch 1 is 3.7730424404144287 sec\n"
          ]
        },
        {
          "output_type": "stream",
          "name": "stderr",
          "text": [
            "\n"
          ]
        }
      ]
    }
  ]
}